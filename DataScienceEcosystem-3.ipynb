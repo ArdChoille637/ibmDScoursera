{
  "metadata": {
    "kernelspec": {
      "name": "python",
      "display_name": "Python (Pyodide)",
      "language": "python"
    },
    "language_info": {
      "codemirror_mode": {
        "name": "python",
        "version": 3
      },
      "file_extension": ".py",
      "mimetype": "text/x-python",
      "name": "python",
      "nbconvert_exporter": "python",
      "pygments_lexer": "ipython3",
      "version": "3.8"
    }
  },
  "nbformat_minor": 5,
  "nbformat": 4,
  "cells": [
    {
      "id": "e6e1d261-0903-4e5d-a488-5fa528e7b299",
      "cell_type": "markdown",
      "source": "# Data Science Tools and Ecosystem",
      "metadata": {}
    },
    {
      "id": "4eedc2c2-e8c3-4c9f-a682-0e8eba46c2f4",
      "cell_type": "markdown",
      "source": "## Author\nMichael Ray Gregory",
      "metadata": {}
    },
    {
      "id": "a644f06e-d104-4548-b26c-ee7a15e6bbaf",
      "cell_type": "markdown",
      "source": "### Introduction\n\nIn this notebook, Data Science Tools and Ecosystem are summarized.",
      "metadata": {}
    },
    {
      "id": "557ab559-3a41-4340-a442-6ef0cc8480c3",
      "cell_type": "markdown",
      "source": "**Objectives:**\n- List popular languages for data science\n- List of data science tools for various stages of the data science process\n- Demonstrate methods of creating and executing simple arithmetic in python\n\n",
      "metadata": {}
    },
    {
      "id": "e4dbfb5b-8474-4b62-a0a0-bba7239e799f",
      "cell_type": "markdown",
      "source": "### Languages for Data Science\n\nSome of the popular languages that Data Scientists use are:\n1. Python\n2. R\n3. SQL\n4. C++\n5. Java",
      "metadata": {}
    },
    {
      "id": "4feca41f-1976-45df-800a-18d79c97a62d",
      "cell_type": "markdown",
      "source": "### Libraries for Data Science\n\nData Scientists utlize some of these popular library choices:\n1. Pandas\n2. TesnorFlow\n3. MatPlotLib\n4. OpenCV",
      "metadata": {}
    },
    {
      "id": "4d65d654-f05d-4230-b651-c57bd5db18c1",
      "cell_type": "markdown",
      "source": "| Data Science Tools |\n| --------- |\n\n| Data Governance | Extract, Transform, Load | Development Environment | Model Deployment | Code Management |\n| --------- | ---- | ------- | ------------ | ------ |\n| Apache CouchDB | Kubeflow | Jupyter IDE | Kubernetes | Git |\n| Hadoop Distributed File System | Node-RED | RStudio | MLeap | Bitbucket |\n| CEPH | Apache Airflow | Spyder | TensorFlow Lite | Gitlab |",
      "metadata": {}
    },
    {
      "id": "8d0f5f74-3ad2-4da4-bcb6-d916fb9e4579",
      "cell_type": "markdown",
      "source": "### Arithmetic\n\nBelow are a few examples of evaluating expressions of basic arithmetic using Python",
      "metadata": {}
    },
    {
      "id": "3eae977b-c103-4c6a-b58a-aa903b252413",
      "cell_type": "code",
      "source": "## this is a showcase of simple maths to add 5 to the product of 3 and 4. using python\n\nprint(\"This simple specific output came from only one line of code: \" + str((3*4)+5))\n\n## another way\nx = 3\ny = 4\nproduct = x*y\nsum = (product)+5\nprint(\"This output used variables and 5 lines of code: \" + str(sum))",
      "metadata": {
        "trusted": true
      },
      "outputs": [
        {
          "name": "stdout",
          "output_type": "stream",
          "text": "This simple specific output came from only one line of code: 17\nThis output used variables and 5 lines of code: 17\n"
        }
      ],
      "execution_count": 15
    },
    {
      "id": "2c9f50ea-fd53-4e84-af4c-00b9e01c6d98",
      "cell_type": "code",
      "source": "# converting 200 minutes into hours by dividing by 60 for units in the hour and to keep adding to this comment just to see if you read it to the end. I love you.\n200/60",
      "metadata": {
        "trusted": true
      },
      "outputs": [
        {
          "execution_count": 1,
          "output_type": "execute_result",
          "data": {
            "text/plain": "3.3333333333333335"
          },
          "metadata": {}
        }
      ],
      "execution_count": 1
    },
    {
      "id": "8ac0efc5-fcf7-4f8c-a7a8-a6b18bede95b",
      "cell_type": "code",
      "source": "",
      "metadata": {
        "trusted": true
      },
      "outputs": [],
      "execution_count": null
    }
  ]
}